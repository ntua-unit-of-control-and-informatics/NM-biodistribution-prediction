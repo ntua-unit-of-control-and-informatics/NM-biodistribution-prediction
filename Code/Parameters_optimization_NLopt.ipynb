{
 "cells": [
  {
   "cell_type": "code",
   "execution_count": 1,
   "id": "3e5344b3-a203-4e46-9e6e-89b426a47a5e",
   "metadata": {},
   "outputs": [],
   "source": [
    "import numpy as np\n",
    "import pandas as pd\n",
    "import matplotlib.pyplot as plt\n",
    "import warnings\n",
    "import time\n",
    "import nlopt\n",
    "import json\n",
    "from scipy.optimize import curve_fit\n",
    "from sklearn.metrics import r2_score\n",
    "from scipy.integrate import simps\n",
    "from matplotlib.backends.backend_pdf import PdfPages\n",
    "from tqdm import tqdm"
   ]
  },
  {
   "cell_type": "code",
   "execution_count": 2,
   "id": "ed823344-6240-46bc-9a3f-59968f32f4d7",
   "metadata": {},
   "outputs": [
    {
     "name": "stdout",
     "output_type": "stream",
     "text": [
      "(1440, 7)\n"
     ]
    },
    {
     "data": {
      "text/html": [
       "<div>\n",
       "<style scoped>\n",
       "    .dataframe tbody tr th:only-of-type {\n",
       "        vertical-align: middle;\n",
       "    }\n",
       "\n",
       "    .dataframe tbody tr th {\n",
       "        vertical-align: top;\n",
       "    }\n",
       "\n",
       "    .dataframe thead th {\n",
       "        text-align: right;\n",
       "    }\n",
       "</style>\n",
       "<table border=\"1\" class=\"dataframe\">\n",
       "  <thead>\n",
       "    <tr style=\"text-align: right;\">\n",
       "      <th></th>\n",
       "      <th>Study_id</th>\n",
       "      <th>Instance</th>\n",
       "      <th>Organs</th>\n",
       "      <th>Concentrations</th>\n",
       "      <th>Time_points</th>\n",
       "      <th>Parameters</th>\n",
       "      <th>R2_score</th>\n",
       "    </tr>\n",
       "  </thead>\n",
       "  <tbody>\n",
       "    <tr>\n",
       "      <th>0</th>\n",
       "      <td>1</td>\n",
       "      <td>1</td>\n",
       "      <td>Blood</td>\n",
       "      <td>[83.5715121429407, 2.457985651262957, 2.001502...</td>\n",
       "      <td>[0.0, 0.16666666666666666, 1.0, 2.0, 4.0, 24.0...</td>\n",
       "      <td>[81.5329817362303, 31.679318243723753, -0.7734...</td>\n",
       "      <td>0.999998</td>\n",
       "    </tr>\n",
       "    <tr>\n",
       "      <th>1</th>\n",
       "      <td>1</td>\n",
       "      <td>1</td>\n",
       "      <td>Brain</td>\n",
       "      <td>[0.0, 8.425676874874718, 2.9197890160456903, 2...</td>\n",
       "      <td>[0.0, 1.0, 24.0, 168.0]</td>\n",
       "      <td>[7.011668382413655, 0.09799548744597017, -9.26...</td>\n",
       "      <td>1.000000</td>\n",
       "    </tr>\n",
       "    <tr>\n",
       "      <th>2</th>\n",
       "      <td>1</td>\n",
       "      <td>1</td>\n",
       "      <td>Kidneys</td>\n",
       "      <td>[0.0, 7.995076681233775, 2.884821482919395, 2....</td>\n",
       "      <td>[0.0, 1.0, 24.0, 168.0]</td>\n",
       "      <td>[-9.831295737175694, 2.719643487958578, 7.0288...</td>\n",
       "      <td>1.000000</td>\n",
       "    </tr>\n",
       "    <tr>\n",
       "      <th>3</th>\n",
       "      <td>1</td>\n",
       "      <td>1</td>\n",
       "      <td>Liver</td>\n",
       "      <td>[0.0, 3.4513788334293967, 9.20367688914503, 0....</td>\n",
       "      <td>[0.0, 1.0, 24.0, 168.0]</td>\n",
       "      <td>[-15.192545150910798, 0.2847971466760059, 15.0...</td>\n",
       "      <td>1.000000</td>\n",
       "    </tr>\n",
       "    <tr>\n",
       "      <th>4</th>\n",
       "      <td>1</td>\n",
       "      <td>1</td>\n",
       "      <td>Lungs</td>\n",
       "      <td>[0.0, 7.259475430305388, 4.619666182921618, 56...</td>\n",
       "      <td>[0.0, 1.0, 24.0, 168.0]</td>\n",
       "      <td>[1.9964470115182613, -0.019760492420510832, 1....</td>\n",
       "      <td>0.987680</td>\n",
       "    </tr>\n",
       "  </tbody>\n",
       "</table>\n",
       "</div>"
      ],
      "text/plain": [
       "   Study_id  Instance   Organs  \\\n",
       "0         1         1    Blood   \n",
       "1         1         1    Brain   \n",
       "2         1         1  Kidneys   \n",
       "3         1         1    Liver   \n",
       "4         1         1    Lungs   \n",
       "\n",
       "                                      Concentrations  \\\n",
       "0  [83.5715121429407, 2.457985651262957, 2.001502...   \n",
       "1  [0.0, 8.425676874874718, 2.9197890160456903, 2...   \n",
       "2  [0.0, 7.995076681233775, 2.884821482919395, 2....   \n",
       "3  [0.0, 3.4513788334293967, 9.20367688914503, 0....   \n",
       "4  [0.0, 7.259475430305388, 4.619666182921618, 56...   \n",
       "\n",
       "                                         Time_points  \\\n",
       "0  [0.0, 0.16666666666666666, 1.0, 2.0, 4.0, 24.0...   \n",
       "1                            [0.0, 1.0, 24.0, 168.0]   \n",
       "2                            [0.0, 1.0, 24.0, 168.0]   \n",
       "3                            [0.0, 1.0, 24.0, 168.0]   \n",
       "4                            [0.0, 1.0, 24.0, 168.0]   \n",
       "\n",
       "                                          Parameters  R2_score  \n",
       "0  [81.5329817362303, 31.679318243723753, -0.7734...  0.999998  \n",
       "1  [7.011668382413655, 0.09799548744597017, -9.26...  1.000000  \n",
       "2  [-9.831295737175694, 2.719643487958578, 7.0288...  1.000000  \n",
       "3  [-15.192545150910798, 0.2847971466760059, 15.0...  1.000000  \n",
       "4  [1.9964470115182613, -0.019760492420510832, 1....  0.987680  "
      ]
     },
     "execution_count": 2,
     "metadata": {},
     "output_type": "execute_result"
    }
   ],
   "source": [
    "# Reading the CSV\n",
    "df_curve_fit_organ_NLopt = pd.read_csv('df_fit_batch4_new.csv', index_col=0).sort_index()\n",
    "# Convert JSON strings back to lists\n",
    "df_curve_fit_organ_NLopt['Concentrations'] = df_curve_fit_organ_NLopt['Concentrations'].apply(json.loads)\n",
    "df_curve_fit_organ_NLopt['Time_points'] = df_curve_fit_organ_NLopt['Time_points'].apply(json.loads)\n",
    "df_curve_fit_organ_NLopt['Parameters'] = df_curve_fit_organ_NLopt['Parameters'].apply(json.loads)\n",
    "# Convert list back to Numpy arrays\n",
    "df_curve_fit_organ_NLopt['Concentrations'] = df_curve_fit_organ_NLopt['Concentrations'].apply(np.array)\n",
    "df_curve_fit_organ_NLopt['Time_points'] = df_curve_fit_organ_NLopt['Time_points'].apply(np.array)\n",
    "df_curve_fit_organ_NLopt['Parameters'] = df_curve_fit_organ_NLopt['Parameters'].apply(np.array)\n",
    "\n",
    "print(df_curve_fit_organ_NLopt.shape)\n",
    "df_curve_fit_organ_NLopt.head(5)"
   ]
  },
  {
   "cell_type": "code",
   "execution_count": 13,
   "id": "f436e0b4-b531-4786-bc86-f1c358dc2aa4",
   "metadata": {},
   "outputs": [],
   "source": [
    "df_curve_fit_organ_loaded = df_curve_fit_organ_NLopt.copy()"
   ]
  },
  {
   "cell_type": "code",
   "execution_count": 4,
   "id": "dd0e11d0-ea49-4b22-a07f-035bd317d542",
   "metadata": {},
   "outputs": [],
   "source": [
    "# Double exponential decay with c\n",
    "def double_exponential_decay(t, a1, b1, a2, b2, c):\n",
    "    return a1 * np.exp(-b1 * t) + a2 * np.exp(-b2 * t) + c"
   ]
  },
  {
   "cell_type": "code",
   "execution_count": 5,
   "id": "a8e915d1-d165-4f8a-b1b3-c679dcc76b11",
   "metadata": {},
   "outputs": [],
   "source": [
    "# Exponential decay\n",
    "def exponential_decay(t, a1, b1, c):\n",
    "    return a1 * np.exp(-b1 * t) + c"
   ]
  },
  {
   "cell_type": "code",
   "execution_count": 6,
   "id": "d254b1a1-a50f-4e4d-9fbe-4047838396e0",
   "metadata": {},
   "outputs": [],
   "source": [
    "# Double exponential decay without c\n",
    "def double_exponential_decay_net(t, a1, b1, a2, b2):\n",
    "    return a1 * np.exp(-b1 * t) + a2 * np.exp(-b2 * t)"
   ]
  },
  {
   "cell_type": "code",
   "execution_count": 7,
   "id": "daf51cfb-d19c-42be-bccd-d9c18be0d803",
   "metadata": {},
   "outputs": [],
   "source": [
    "# Function RMSE\n",
    "def rmse(predictions, observations):\n",
    "    \"\"\"\n",
    "    Calculate the Root Mean Squared Error (RMSE).\n",
    "\n",
    "    Parameters:\n",
    "    predictions (list or np.array): Predicted values.\n",
    "    observations (list or np.array): Observed values.\n",
    "\n",
    "    Returns:\n",
    "    float: The Root Mean Squared Error.\n",
    "    \"\"\"\n",
    "    # Ensure inputs are numpy arrays\n",
    "    y_obs = np.array(observations)\n",
    "    y_pred = np.array(predictions)\n",
    "\n",
    "    return np.sqrt(np.mean((y_pred - y_obs) ** 2))"
   ]
  },
  {
   "cell_type": "code",
   "execution_count": 8,
   "id": "7aed9a40-ccba-47b7-9c28-9fd176e470fb",
   "metadata": {},
   "outputs": [],
   "source": [
    "# Function AAFE\n",
    "def aafe(predictions, observations):\n",
    "    \"\"\"\n",
    "    Calculate the Absolute Average Fold Error (AAFE).\n",
    "\n",
    "    Parameters:\n",
    "    predictions (list or np.array): Predicted values.\n",
    "    observations (list or np.array): Observed values.\n",
    "\n",
    "    Returns:\n",
    "    float: The Absolute Average Fold Error.\n",
    "    \"\"\"\n",
    "    if any(predictions)<0:\n",
    "        return 1e06\n",
    "    else:\n",
    "        observations = [x + 1e-10 if x == 0 else x for x in observations]\n",
    "        predictions = [x + 1e-10 if x == 0 else x for x in predictions]\n",
    "        # Ensure inputs are numpy arrays\n",
    "        y_obs = np.array(observations)\n",
    "        y_pred = np.array(predictions)\n",
    "\n",
    "        #Total number of observations\n",
    "        N = len(y_obs)\n",
    "\n",
    "        #Calculate log ratios\n",
    "        log_ratio = np.abs(np.log10(y_pred/ y_obs))\n",
    "\n",
    "\n",
    "        #Calculate AAFE\n",
    "        aafe = 10 ** (np.sum(log_ratio) / N)\n",
    "\n",
    "        return aafe"
   ]
  },
  {
   "cell_type": "code",
   "execution_count": 9,
   "id": "5805312e-a0c4-4991-8a30-7765b39aeb27",
   "metadata": {},
   "outputs": [],
   "source": [
    "# Objective function for double exponential decay\n",
    "def objective_function(x, grad, time_data, concentration_data, metric):\n",
    "    a1, b1, a2, b2, c = x\n",
    "    model_function = double_exponential_decay(time_data, *x)\n",
    "    loss = aafe(model_function, concentration_data) if metric == \"AAFE\" else rmse(model_function, concentration_data)\n",
    "    return loss"
   ]
  },
  {
   "cell_type": "code",
   "execution_count": 11,
   "id": "6083dc18-c2a3-4365-8a18-dc86640c43ab",
   "metadata": {},
   "outputs": [
    {
     "name": "stdout",
     "output_type": "stream",
     "text": [
      "379\n"
     ]
    }
   ],
   "source": [
    "# Create a list with index of all Organ data\n",
    "index_organ_list = []\n",
    "\n",
    "for index, row in df_curve_fit_organ_loaded.iterrows():\n",
    "    if row['Organs'] != 'Blood' and row['R2_score'] <= 0.96:\n",
    "        index_organ_list.append(index)\n",
    "\n",
    "index_organ_list.sort()\n",
    "print(len(index_organ_list))"
   ]
  },
  {
   "cell_type": "code",
   "execution_count": 14,
   "id": "8cb2e397-e651-47b2-a45b-e95d1076a94a",
   "metadata": {},
   "outputs": [
    {
     "name": "stdout",
     "output_type": "stream",
     "text": [
      "Batch_1 has 94 sets of parameters for optimization\n",
      "Batch_2 has 94 sets of parameters for optimization\n",
      "Batch_3 has 94 sets of parameters for optimization\n",
      "Batch_4 has 47 sets of parameters for optimization\n"
     ]
    }
   ],
   "source": [
    "# Update the parameters in batches\n",
    "\n",
    "# Calculate the length of each batch\n",
    "batch_length = len(index_organ_list) // 4\n",
    "\n",
    "# Divide the list into four sublists\n",
    "batch_1 = index_organ_list[:batch_length]\n",
    "batch_2 = index_organ_list[batch_length:2*batch_length]\n",
    "batch_3 = index_organ_list[2*batch_length:3*batch_length]\n",
    "batch_4 = index_organ_list[3*batch_length+50:]\n",
    "\n",
    "# Print the lengths of the sublists\n",
    "print(f\"Batch_1 has {len(batch_1)} sets of parameters for optimization\")\n",
    "print(f\"Batch_2 has {len(batch_2)} sets of parameters for optimization\")\n",
    "print(f\"Batch_3 has {len(batch_3)} sets of parameters for optimization\")\n",
    "print(f\"Batch_4 has {len(batch_4)} sets of parameters for optimization\")"
   ]
  },
  {
   "cell_type": "code",
   "execution_count": 15,
   "id": "a3a34bc7-48fe-4232-b7b8-98ac7f227c83",
   "metadata": {},
   "outputs": [],
   "source": [
    "# Set the batch number\n",
    "batch_list = batch_4\n",
    "# Set number of evaluations\n",
    "maxeval = 600\n",
    "# Set relative tolerance\n",
    "tolerance = 1e-4\n",
    "# Set R2 score tolerance\n",
    "r2_score_tolerance = 0.96"
   ]
  },
  {
   "cell_type": "code",
   "execution_count": 16,
   "id": "affb980f-dcef-452b-aefe-f8416b4fcb2c",
   "metadata": {},
   "outputs": [
    {
     "name": "stderr",
     "output_type": "stream",
     "text": [
      "                                                                          "
     ]
    },
    {
     "name": "stdout",
     "output_type": "stream",
     "text": [
      "Elapsed time: 39.43 minutes\n"
     ]
    },
    {
     "name": "stderr",
     "output_type": "stream",
     "text": [
      "\r"
     ]
    }
   ],
   "source": [
    "params_values = [-5,-1,0,1,5]\n",
    "\n",
    "warnings.filterwarnings(\"ignore\")\n",
    "\n",
    "\n",
    "start_time = time.time()\n",
    "total_iterations = len(batch_list)\n",
    "pbar = tqdm(total=total_iterations, desc=\"Fitting curves for Organs\", leave=False)\n",
    "\n",
    "\n",
    "for index in batch_list:\n",
    "    metric = 'AAFE' #\"RMSE\" OR \"AAFE\"\n",
    "    metric_optimal = 1e+012\n",
    "    # Define the experimental data\n",
    "    time_data = df_curve_fit_organ_loaded.at[index, 'Time_points'] \n",
    "    concentration_data = df_curve_fit_organ_loaded.at[index, 'Concentrations'] \n",
    "\n",
    "    # Find the right parameters\n",
    "    for a1 in params_values:\n",
    "        for b1 in params_values:\n",
    "            for a2 in params_values:\n",
    "                for b2 in params_values:\n",
    "                    for c in params_values:\n",
    "                        try:\n",
    "\n",
    "                            initial_params = [a1, b1, a2, b2, c]\n",
    "                            opt = nlopt.opt(nlopt.LN_SBPLX, 5) # define the algorithm and parameters for optimization\n",
    "                            opt.set_min_objective(lambda params, grad: objective_function(params, grad, time_data, concentration_data, metric))\n",
    "                            #opt.set_min_objective(lambda params, grad: objective_function(params, time_data, concentration_data))\n",
    "                            opt.set_xtol_rel(tolerance)  # Relative tolerance on the optimization\n",
    "                            opt.set_maxeval(maxeval)   # Maximum number of function evaluations\n",
    "                            optimized_params = opt.optimize(initial_params)\n",
    "\n",
    "                            concentration_pred = double_exponential_decay(time_data, *optimized_params)\n",
    "\n",
    "                            if metric == \"AAFE\":\n",
    "                                metric_new = aafe(concentration_pred, concentration_data)\n",
    "                            elif metric == \"RMSE\":\n",
    "                                metric_new = rmse(concentration_pred, concentration_data)\n",
    "\n",
    "                            if metric_new < metric_optimal:\n",
    "                                new_params = optimized_params\n",
    "                                metric_optimal = metric_new\n",
    "\n",
    "                        except Exception:\n",
    "                            pass\n",
    "                            \n",
    "\n",
    "    # Replace with the updated parameters\n",
    "    df_curve_fit_organ_loaded.at[index, 'Parameters'] = new_params\n",
    "    \n",
    "\n",
    "    # Replace with the updated R2_score\n",
    "    concentration_pred = double_exponential_decay(time_data, *new_params)\n",
    "    R2_score = r2_score(concentration_data, concentration_pred)\n",
    "    df_curve_fit_organ_loaded.at[index, 'R2_score'] = R2_score\n",
    "\n",
    "    pbar.update(1)\n",
    "pbar.close()\n",
    "end_time = time.time()\n",
    "elapsed_time_seconds = end_time - start_time\n",
    "elapsed_time_minutes = elapsed_time_seconds / 60\n",
    "print(f\"Elapsed time: {elapsed_time_minutes:.2f} minutes\")\n"
   ]
  },
  {
   "cell_type": "code",
   "execution_count": null,
   "id": "1ea96df4-3a1f-417e-b46d-36b817945757",
   "metadata": {},
   "outputs": [],
   "source": [
    "with PdfPages('organ_plots_AAFE_batch4_new.pdf') as pdf:\n",
    "    for index in batch_list:\n",
    "        \n",
    "        time_data = df_curve_fit_organ_loaded.at[index, 'Time_points']\n",
    "        concentration_data = df_curve_fit_organ_loaded.at[index, 'Concentrations']\n",
    "        \n",
    "        time_curve = np.linspace(time_data.min(),time_data.max(), 1000)\n",
    "       \n",
    "\n",
    "        concentration_curve = double_exponential_decay(time_curve, *df_curve_fit_organ_loaded.at[index, 'Parameters'])\n",
    "                \n",
    "            \n",
    "        \n",
    " \n",
    "        # Plot the data points\n",
    "        plt.scatter(time_data, concentration_data, label='Experimental data')\n",
    "        plt.plot(time_curve, concentration_curve, color='red', label='Fitted Curve')\n",
    "        # Add labels and legend\n",
    "        plt.xlabel('Time points (hours)')\n",
    "        plt.ylabel('Concentrations (%ID/g)')\n",
    "        plt.title(f\"Index:{index}, Study_id:{df_curve_fit_organ_loaded.at[index, 'Study_id']}, Instance:{df_curve_fit_organ_loaded.at[index, 'Instance']}, Organ:{df_curve_fit_organ_loaded.at[index, 'Organs']}, R2: {df_curve_fit_organ_loaded.at[index, 'R2_score']}\")\n",
    "        plt.legend()\n",
    "\n",
    "        # Save the plot to the PDF file\n",
    "        pdf.savefig()\n",
    "        plt.close()       "
   ]
  },
  {
   "cell_type": "code",
   "execution_count": 40,
   "id": "b9e8a0d2-e81d-49ad-811c-4aecac2facac",
   "metadata": {},
   "outputs": [],
   "source": [
    "df_curve_fit_organ_save = df_curve_fit_organ_loaded.copy()\n",
    "\n",
    "# Convert NumPy arrays to lists and then to JSON strings\n",
    "df_curve_fit_organ_save['Concentrations'] = df_curve_fit_organ_save['Concentrations'].apply(lambda x: json.dumps(x.tolist()))\n",
    "df_curve_fit_organ_save['Time_points'] = df_curve_fit_organ_save['Time_points'].apply(lambda x: json.dumps(x.tolist()))\n",
    "df_curve_fit_organ_save['Parameters'] = df_curve_fit_organ_save['Parameters'].apply(lambda x: json.dumps(x.tolist()))\n",
    "\n",
    "# Save to CSV\n",
    "df_curve_fit_organ_save.to_csv('df_fit_batch4_new.csv', index=True)"
   ]
  },
  {
   "cell_type": "code",
   "execution_count": 31,
   "id": "628821f4-9bd8-459e-85bf-647cd9e27890",
   "metadata": {},
   "outputs": [
    {
     "name": "stdout",
     "output_type": "stream",
     "text": [
      "1278\n"
     ]
    }
   ],
   "source": [
    "organ_list = []\n",
    "\n",
    "for index, row in df_curve_fit_organ_loaded.iterrows():\n",
    "    if row['Organs'] != 'Blood':\n",
    "        organ_list.append(index)\n",
    "\n",
    "organ_list.sort()\n",
    "print(len(organ_list))"
   ]
  },
  {
   "cell_type": "code",
   "execution_count": 32,
   "id": "3c4afcd6-3fcb-4ac3-a230-84fa79e48ceb",
   "metadata": {},
   "outputs": [
    {
     "name": "stdout",
     "output_type": "stream",
     "text": [
      "162\n"
     ]
    }
   ],
   "source": [
    "blood_list = []\n",
    "\n",
    "for index, row in df_curve_fit_organ_loaded.iterrows():\n",
    "    if row['Organs'] == 'Blood':\n",
    "        blood_list.append(index)\n",
    "\n",
    "blood_list.sort()\n",
    "print(len(blood_list))"
   ]
  },
  {
   "cell_type": "code",
   "execution_count": 33,
   "id": "1fe3b7df-ae24-42e6-a9a8-586c0b3cf903",
   "metadata": {},
   "outputs": [],
   "source": [
    "with PdfPages('organ_plots_FINAL.pdf') as pdf:\n",
    "    for index in organ_list:\n",
    "        \n",
    "        # Define the experimental data \n",
    "        time_data = df_curve_fit_organ_loaded.at[index, 'Time_points'] # x-axis -> Time_points (hours)\n",
    "        concentration_data = df_curve_fit_organ_loaded.at[index, 'Concentrations'] # y-axis -> concentrations (%ID/g)\n",
    "        \n",
    "        # Define curve fit data\n",
    "        time_curve = np.linspace(time_data.min(),time_data.max(), 1000)\n",
    "        \n",
    "        if len(df_curve_fit_organ_loaded.at[index, 'Parameters']) <= 4:\n",
    "            concentration_curve = exponential_decay(time_curve, *df_curve_fit_organ_loaded.at[index, 'Parameters'])\n",
    "        else:\n",
    "            concentration_curve = double_exponential_decay(time_curve, *df_curve_fit_organ_loaded.at[index, 'Parameters'])\n",
    " \n",
    "        # Plot the data points\n",
    "        plt.scatter(time_data, concentration_data, label='Experimental data')\n",
    "        plt.plot(time_curve, concentration_curve, color='red', label='Fitted Curve')\n",
    "        # Add labels and legend\n",
    "        plt.xlabel('Time points (hours)')\n",
    "        plt.ylabel('Concentrations (%ID/g)')\n",
    "        plt.title(f\"Index:{index}, Study_id:{df_curve_fit_organ_loaded.at[index, 'Study_id']}, Instance:{df_curve_fit_organ_loaded.at[index, 'Instance']}, Organ:{df_curve_fit_organ_loaded.at[index, 'Organs']}, R2: {df_curve_fit_organ_loaded.at[index, 'R2_score']}\")\n",
    "        plt.legend()\n",
    "\n",
    "        # Save the plot to the PDF file\n",
    "        pdf.savefig()\n",
    "        plt.close()       "
   ]
  },
  {
   "cell_type": "code",
   "execution_count": 34,
   "id": "8137f534-7338-423e-96c4-d19d5ae01133",
   "metadata": {},
   "outputs": [],
   "source": [
    "with PdfPages('blood_plots_FINAL.pdf') as pdf:\n",
    "    for index in blood_list:\n",
    "        \n",
    "        # Define the experimental data \n",
    "        time_data = df_curve_fit_organ_loaded.at[index, 'Time_points'] # x-axis -> Time_points (hours)\n",
    "        concentration_data = df_curve_fit_organ_loaded.at[index, 'Concentrations'] # y-axis -> concentrations (%ID/g)\n",
    "        \n",
    "        # Define curve fit data\n",
    "        time_curve = np.linspace(time_data.min(),time_data.max(), 1000)\n",
    "        \n",
    "        if len(df_curve_fit_organ_loaded.at[index, 'Parameters'])==3:\n",
    "            concentration_curve = exponential_decay(time_curve, *df_curve_fit_organ_loaded.at[index, 'Parameters'])\n",
    "            \n",
    "        elif len(df_curve_fit_organ_loaded.at[index, 'Parameters'])==4:\n",
    "            concentration_curve = double_exponential_decay_net(time_curve, *df_curve_fit_organ_loaded.at[index, 'Parameters'])\n",
    "            \n",
    "        else:\n",
    "            concentration_curve = double_exponential_decay(time_curve, *df_curve_fit_organ_loaded.at[index, 'Parameters'])\n",
    " \n",
    "        # Plot the data points\n",
    "        plt.scatter(time_data, concentration_data, label='Experimental data')\n",
    "        plt.plot(time_curve, concentration_curve, color='red', label='Fitted Curve')\n",
    "        # Add labels and legend\n",
    "        plt.xlabel('Time points (hours)')\n",
    "        plt.ylabel('Concentrations (%ID/g)')\n",
    "        plt.title(f\"Index:{index}, Study_id:{df_curve_fit_organ_loaded.at[index, 'Study_id']}, Instance:{df_curve_fit_organ_loaded.at[index, 'Instance']}, Organ:{df_curve_fit_organ_loaded.at[index, 'Organs']}, R2: {df_curve_fit_organ_loaded.at[index, 'R2_score']}\")\n",
    "        plt.legend()\n",
    "\n",
    "        # Save the plot to the PDF file\n",
    "        pdf.savefig()\n",
    "        plt.close()       "
   ]
  }
 ],
 "metadata": {
  "kernelspec": {
   "display_name": "Python 3 (ipykernel)",
   "language": "python",
   "name": "python3"
  },
  "language_info": {
   "codemirror_mode": {
    "name": "ipython",
    "version": 3
   },
   "file_extension": ".py",
   "mimetype": "text/x-python",
   "name": "python",
   "nbconvert_exporter": "python",
   "pygments_lexer": "ipython3",
   "version": "3.10.9"
  }
 },
 "nbformat": 4,
 "nbformat_minor": 5
}
